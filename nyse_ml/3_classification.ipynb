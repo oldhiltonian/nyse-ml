{
 "cells": [
  {
   "cell_type": "code",
   "execution_count": 1,
   "id": "60692552",
   "metadata": {},
   "outputs": [],
   "source": [
    "# imports\n",
    "import pandas as pd\n",
    "from pandas.plotting import scatter_matrix\n",
    "import numpy as np\n",
    "import math\n",
    "import json\n",
    "import matplotlib.pyplot as plt\n",
    "from preprocessing_tools import check_for_nan_columns, drop_nan_columns\n",
    "from ml_tools import stratified_clf_cv_accuracy\n",
    "from functools import partial\n",
    "from scipy import stats\n",
    "from scipy.stats import randint\n",
    "\n",
    "from sklearn.dummy import DummyClassifier\n",
    "from sklearn.model_selection import (train_test_split, cross_val_score, \n",
    "                                     GridSearchCV, RandomizedSearchCV,\n",
    "                                     cross_val_predict)\n",
    "from sklearn.preprocessing import StandardScaler\n",
    "from sklearn.pipeline import make_pipeline\n",
    "from sklearn.linear_model import SGDClassifier\n",
    "from sklearn.metrics import mean_squared_error, make_scorer, confusion_matrix"
   ]
  },
  {
   "cell_type": "code",
   "execution_count": 2,
   "id": "1fec2c6a",
   "metadata": {},
   "outputs": [],
   "source": [
    "df = pd.read_parquet('NYSE_dataset_v2_linregress.parquet')\n",
    "df = df.drop(['priceRatioRelativeToS&P_1Q', 'priceRatioRelativeToS&P_3Q', \n",
    "              'priceRatioRelativeToS&P_4Q'], axis=1)\n",
    "\n",
    "# making the output binary\n",
    "df['priceRatioRelativeToS&P_2Q'] = \\\n",
    "    df['priceRatioRelativeToS&P_2Q'].apply(lambda x: 1 if x>=1 else 0)\n",
    "\n",
    "input_df = df.drop('priceRatioRelativeToS&P_2Q', axis=1).copy()\n",
    "output_df = df['priceRatioRelativeToS&P_2Q'].copy().to_frame()\n",
    "\n",
    "X_train, X_test, y_train, y_test = train_test_split(input_df, \n",
    "                                                    output_df,\n",
    "                                                    random_state=42,\n",
    "                                                    test_size=0.2\n",
    "                                                   )\n",
    "\n",
    "# scaling data\n",
    "input_scaler = StandardScaler()\n",
    "X_train_scaled = input_scaler.fit_transform(X_train)\n",
    "X_test_scaled = input_scaler.transform(X_test)\n",
    "y_train = np.array(y_train).ravel()\n",
    "y_test = np.array(y_test).ravel()\n",
    "# categorical outputs dont need to be scaled"
   ]
  },
  {
   "cell_type": "markdown",
   "id": "fd091711",
   "metadata": {},
   "source": [
    "## Stochastic Gradient Descent\n",
    "We first inspect the distribution of outcomes in the y_train set to determine if there is any imbalance in the classes. We anticipate each class to represent around 50% of the total. This is intuitive: the metric measures whether a company's stock price has done better than the market average. We would expect half of the companies to have done better than the market, and half worse."
   ]
  },
  {
   "cell_type": "code",
   "execution_count": 3,
   "id": "7e4a1cac",
   "metadata": {},
   "outputs": [
    {
     "data": {
      "text/plain": [
       "0.5128573648228714"
      ]
     },
     "execution_count": 3,
     "metadata": {},
     "output_type": "execute_result"
    }
   ],
   "source": [
    "(y_train == 0).sum()/len(y_train)"
   ]
  },
  {
   "cell_type": "markdown",
   "id": "84365841",
   "metadata": {},
   "source": [
    "We thus see that our intuitions are correct. **Since the outcomes in the dataset are balanced, we can safely use accuracy as a performance metric on this data.** We proceed now to train the SGDClassifier"
   ]
  },
  {
   "cell_type": "code",
   "execution_count": 4,
   "id": "61d38094",
   "metadata": {},
   "outputs": [
    {
     "data": {
      "text/plain": [
       "array([0.52631579, 0.53777433, 0.49873762, 0.53311323, 0.53496503])"
      ]
     },
     "execution_count": 4,
     "metadata": {},
     "output_type": "execute_result"
    }
   ],
   "source": [
    "sgd_clf = SGDClassifier(random_state=42)\n",
    "sgd_clf.fit(X_train_scaled, y_train)\n",
    "\n",
    "# using cross-validation and checking accuracy\n",
    "cross_val_score(sgd_clf, X_train_scaled, y_train, cv=5, scoring='accuracy')"
   ]
  },
  {
   "cell_type": "code",
   "execution_count": 6,
   "id": "f7ea434f",
   "metadata": {},
   "outputs": [
    {
     "data": {
      "text/plain": [
       "array([0.52631579, 0.53777433, 0.49873762, 0.53311323, 0.53496503])"
      ]
     },
     "execution_count": 6,
     "metadata": {},
     "output_type": "execute_result"
    }
   ],
   "source": [
    "# We note that we get the same result from our custom-built CV function\n",
    "stratified_clf_cv_accuracy(sgd_clf, X_train_scaled, y_train, n_splits=5)"
   ]
  },
  {
   "cell_type": "code",
   "execution_count": 7,
   "id": "2a4b9aff",
   "metadata": {},
   "outputs": [
    {
     "data": {
      "text/plain": [
       "array([0.51272092, 0.51291513, 0.51291513, 0.51291513, 0.51282051])"
      ]
     },
     "execution_count": 7,
     "metadata": {},
     "output_type": "execute_result"
    }
   ],
   "source": [
    "# comparison to a dummy classifier\n",
    "dummy_clf = DummyClassifier()\n",
    "dummy_clf.fit(X_train, y_train)\n",
    "cross_val_score(dummy_clf, X_train_scaled, y_train, cv=5, scoring='accuracy')"
   ]
  },
  {
   "cell_type": "markdown",
   "id": "25d67899",
   "metadata": {},
   "source": [
    "We see that our SGDClassifier is only marginally better than a dummy classifier. This is not very impressive! We now inspect the confusion matrix. We see that we are getting many false positives and many false negatives. The model seems to be slightly better at predicting the positive outcomes."
   ]
  },
  {
   "cell_type": "code",
   "execution_count": 11,
   "id": "1e168e3d",
   "metadata": {},
   "outputs": [
    {
     "data": {
      "text/plain": [
       "array([[7531, 5672],\n",
       "       [6526, 6015]], dtype=int64)"
      ]
     },
     "execution_count": 11,
     "metadata": {},
     "output_type": "execute_result"
    }
   ],
   "source": [
    "y_train_pred = cross_val_predict(sgd_clf, X_train_scaled, y_train, cv=5)\n",
    "cm = confusion_matrix(y_train, y_train_pred)\n",
    "cm"
   ]
  },
  {
   "cell_type": "code",
   "execution_count": null,
   "id": "2f13bfa8",
   "metadata": {},
   "outputs": [],
   "source": []
  }
 ],
 "metadata": {
  "kernelspec": {
   "display_name": "Python 3 (ipykernel)",
   "language": "python",
   "name": "python3"
  },
  "language_info": {
   "codemirror_mode": {
    "name": "ipython",
    "version": 3
   },
   "file_extension": ".py",
   "mimetype": "text/x-python",
   "name": "python",
   "nbconvert_exporter": "python",
   "pygments_lexer": "ipython3",
   "version": "3.9.12"
  }
 },
 "nbformat": 4,
 "nbformat_minor": 5
}
