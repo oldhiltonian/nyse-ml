{
 "cells": [
  {
   "cell_type": "code",
   "execution_count": 11,
   "id": "60692552",
   "metadata": {},
   "outputs": [],
   "source": [
    "# imports\n",
    "import pandas as pd\n",
    "from pandas.plotting import scatter_matrix\n",
    "import numpy as np\n",
    "import math\n",
    "import json\n",
    "import matplotlib.pyplot as plt\n",
    "from preprocessing_tools import check_for_nan_columns, drop_nan_columns\n",
    "from functools import partial\n",
    "from scipy import stats\n",
    "from scipy.stats import randint\n",
    "\n",
    "from sklearn.model_selection import (train_test_split, cross_val_score, \n",
    "                                     GridSearchCV, RandomizedSearchCV)\n",
    "from sklearn.preprocessing import StandardScaler\n",
    "from sklearn.pipeline import make_pipeline\n",
    "from sklearn.linear_model import SGDClassifier\n",
    "from sklearn.metrics import mean_squared_error, make_scorer"
   ]
  },
  {
   "cell_type": "code",
   "execution_count": 34,
   "id": "1fec2c6a",
   "metadata": {},
   "outputs": [
    {
     "data": {
      "text/plain": [
       "(25744,)"
      ]
     },
     "execution_count": 34,
     "metadata": {},
     "output_type": "execute_result"
    }
   ],
   "source": [
    "df = pd.read_parquet('NYSE_dataset_v2_linregress.parquet')\n",
    "df = df.drop(['priceRatioRelativeToS&P_1Q', 'priceRatioRelativeToS&P_3Q', \n",
    "              'priceRatioRelativeToS&P_4Q'], axis=1)\n",
    "\n",
    "# making the output binary\n",
    "df['priceRatioRelativeToS&P_2Q'] = \\\n",
    "    df['priceRatioRelativeToS&P_2Q'].apply(lambda x: '1' if x>=1 else '0')\n",
    "\n",
    "input_df = df.drop('priceRatioRelativeToS&P_2Q', axis=1).copy()\n",
    "output_df = df['priceRatioRelativeToS&P_2Q'].copy().to_frame()\n",
    "\n",
    "X_train, X_test, y_train, y_test = train_test_split(input_df, \n",
    "                                                    output_df,\n",
    "                                                    random_state=42,\n",
    "                                                    test_size=0.2\n",
    "                                                   )\n",
    "\n",
    "# scaling data\n",
    "input_scaler = StandardScaler()\n",
    "X_train_scaled = input_scaler.fit_transform(X_train)\n",
    "X_test_scaled = input_scaler.transform(X_test)\n",
    "# categorical outputs dont need to be scaled\n",
    "np.array(y_train).ravel().shape"
   ]
  },
  {
   "cell_type": "markdown",
   "id": "fd091711",
   "metadata": {},
   "source": [
    "## Stochastic Gradient Descent"
   ]
  },
  {
   "cell_type": "code",
   "execution_count": 43,
   "id": "61d38094",
   "metadata": {},
   "outputs": [
    {
     "data": {
      "text/plain": [
       "SGDClassifier(random_state=42)"
      ]
     },
     "execution_count": 43,
     "metadata": {},
     "output_type": "execute_result"
    }
   ],
   "source": [
    "sgd_clf = SGDClassifier(random_state=42)\n",
    "sgd_clf.fit(X_train_scaled, np.array(y_train).ravel())"
   ]
  },
  {
   "cell_type": "code",
   "execution_count": null,
   "id": "2a4b9aff",
   "metadata": {},
   "outputs": [],
   "source": []
  }
 ],
 "metadata": {
  "kernelspec": {
   "display_name": "Python 3 (ipykernel)",
   "language": "python",
   "name": "python3"
  },
  "language_info": {
   "codemirror_mode": {
    "name": "ipython",
    "version": 3
   },
   "file_extension": ".py",
   "mimetype": "text/x-python",
   "name": "python",
   "nbconvert_exporter": "python",
   "pygments_lexer": "ipython3",
   "version": "3.9.12"
  }
 },
 "nbformat": 4,
 "nbformat_minor": 5
}
