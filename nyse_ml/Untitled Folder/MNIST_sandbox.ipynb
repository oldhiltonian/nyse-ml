{
 "cells": [
  {
   "cell_type": "code",
   "execution_count": 10,
   "id": "c2fa497f",
   "metadata": {},
   "outputs": [],
   "source": [
    "# models\n",
    "from sklearn.linear_model import SGDClassifier, LogisticRegression\n",
    "from sklearn.tree import DecisionTreeClassifier\n",
    "from sklearn.ensemble import RandomForestClassifier\n",
    "from sklearn.neighbors import KNeighborsClassifier\n",
    "from sklearn.svm import SVC\n",
    "from sklearn.multiclass import OneVsOneClassifier, OneVsRestClassifier\n",
    "\n",
    "# optimization & metrics\n",
    "from sklearn.model_selection import (train_test_split, cross_val_predict, \n",
    "                                     cross_val_score, learning_curve)\n",
    "from sklearn.metrics import (accuracy_score, recall_score, precision_score, \n",
    "                             precision_recall_curve, roc_curve)\n",
    "\n",
    "# general\n",
    "import pandas as pd\n",
    "import numpy as np\n",
    "import matplotlib.pyplot as plt\n",
    "from sklearn.datasets import fetch_openml"
   ]
  },
  {
   "cell_type": "code",
   "execution_count": 2,
   "id": "3d980b1e",
   "metadata": {},
   "outputs": [],
   "source": [
    "mnist = fetch_openml('mnist_784', as_frame=False)"
   ]
  },
  {
   "cell_type": "code",
   "execution_count": 3,
   "id": "1ecef8dc",
   "metadata": {},
   "outputs": [],
   "source": [
    "def plot_digit(data):\n",
    "    image = data.reshape(28, 28)\n",
    "    plt.imshow(image, cmap='binary')\n",
    "    plt.axis('off')"
   ]
  },
  {
   "cell_type": "code",
   "execution_count": 4,
   "id": "ed5cce66",
   "metadata": {},
   "outputs": [],
   "source": [
    "X, y = mnist.data, mnist.target"
   ]
  },
  {
   "cell_type": "code",
   "execution_count": 5,
   "id": "d2b0d501",
   "metadata": {},
   "outputs": [
    {
     "data": {
      "image/png": "[encoded data removed]",
      "text/plain": [
       "<Figure size 432x288 with 1 Axes>"
      ]
     },
     "metadata": {
      "needs_background": "light"
     },
     "output_type": "display_data"
    }
   ],
   "source": [
    "plot_digit(X[7])"
   ]
  },
  {
   "cell_type": "code",
   "execution_count": 6,
   "id": "1031fa9a",
   "metadata": {},
   "outputs": [],
   "source": [
    "X_train, X_test, y_train, y_test = train_test_split(X, y, test_size=0.2)"
   ]
  },
  {
   "cell_type": "markdown",
   "id": "1311d567",
   "metadata": {},
   "source": [
    "## Binary Classification\n",
    "This initial section will simply scope the performance of the different available algorithms. They will be operated in binary mode, predicting if the output is 3 or not.\n",
    "\n",
    "The best algorithms will be taken forward to build a full classifier."
   ]
  },
  {
   "cell_type": "code",
   "execution_count": 7,
   "id": "7b728861",
   "metadata": {},
   "outputs": [],
   "source": [
    "y_train_3 = (y_train == '3')\n",
    "y_test_3 = (y_test == '3')"
   ]
  },
  {
   "cell_type": "markdown",
   "id": "50a1e582",
   "metadata": {},
   "source": [
    "### Stochastic Gradient Descent"
   ]
  },
  {
   "cell_type": "code",
   "execution_count": 8,
   "id": "f6c2176a",
   "metadata": {},
   "outputs": [
    {
     "name": "stderr",
     "output_type": "stream",
     "text": [
      "C:\\Users\\John\\anaconda3\\lib\\site-packages\\sklearn\\linear_model\\_stochastic_gradient.py:696: ConvergenceWarning: Maximum number of iteration reached before convergence. Consider increasing max_iter to improve the fit.\n",
      "  warnings.warn(\n"
     ]
    },
    {
     "data": {
      "text/plain": [
       "{'hinge': 0.9590535714285714,\n",
       " 'log': 0.9500357142857143,\n",
       " 'modified_huber': 0.9656428571428571,\n",
       " 'squared_error': 0.18628571428571428}"
      ]
     },
     "execution_count": 8,
     "metadata": {},
     "output_type": "execute_result"
    }
   ],
   "source": [
    "# Stochastic Gradient Descent\n",
    "losses = ['hinge', 'log', 'modified_huber', 'squared_error']\n",
    "accuracies = dict()\n",
    "for loss in losses:\n",
    "    sgd_clf = SGDClassifier(loss=loss, random_state=1)\n",
    "    sgd_clf.fit(X_train, y_train_3)\n",
    "    y_train_3_pred = sgd_clf.predict(X_train)\n",
    "    accuracy = accuracy_score(y_train_3, y_train_3_pred)\n",
    "    accuracies[loss] = accuracy\n",
    "accuracies"
   ]
  },
  {
   "cell_type": "code",
   "execution_count": 9,
   "id": "87ee44fa",
   "metadata": {},
   "outputs": [
    {
     "name": "stdout",
     "output_type": "stream",
     "text": [
      "0.9590535714285714 0.8978392857142857\n"
     ]
    }
   ],
   "source": [
    "# 'hinge' gave the best initial pass\n",
    "sgd_clf = SGDClassifier(random_state=1)\n",
    "sgd_clf.fit(X_train, y_train_3)\n",
    "y_train_3_pred = sgd_clf.predict(X_train)\n",
    "accuracy = accuracy_score(y_train_3, y_train_3_pred)\n",
    "proportion_non_3 = sum(y_train != '3')/len(y_train)\n",
    "print(accuracy, proportion_non_3)\n",
    "# ~90% of the data is already not '3', so our classifier is correctly predicting 60% of the '3's"
   ]
  },
  {
   "cell_type": "code",
   "execution_count": 10,
   "id": "35e65359",
   "metadata": {},
   "outputs": [],
   "source": [
    "# using cross validation\n",
    "y_train_3_pred = cross_val_predict(sgd_clf, X_train, y_train_3, cv=5, method='decision_function')"
   ]
  },
  {
   "cell_type": "code",
   "execution_count": 11,
   "id": "e0fe05f2",
   "metadata": {},
   "outputs": [],
   "source": [
    "precisions, recalls, thresholds = precision_recall_curve(y_train_3, y_train_pred_3)"
   ]
  },
  {
   "cell_type": "code",
   "execution_count": 12,
   "id": "6709625f",
   "metadata": {},
   "outputs": [
    {
     "data": {
      "text/plain": [
       "<matplotlib.legend.Legend at 0x26b59b29f10>"
      ]
     },
     "execution_count": 12,
     "metadata": {},
     "output_type": "execute_result"
    },
    {
     "data": {
      "image/png": "[encoded data removed]",
      "text/plain": [
       "<Figure size 432x288 with 1 Axes>"
      ]
     },
     "metadata": {
      "needs_background": "light"
     },
     "output_type": "display_data"
    }
   ],
   "source": [
    "# Precision-Recall Tradeoff\n",
    "plt.plot(thresholds, precisions[:-1], label='precision')\n",
    "plt.plot(thresholds, recalls[:-1], label='recall')\n",
    "plt.xlabel('Thresholds')\n",
    "plt.grid()\n",
    "plt.legend()"
   ]
  },
  {
   "cell_type": "code",
   "execution_count": 13,
   "id": "42da203f",
   "metadata": {},
   "outputs": [
    {
     "data": {
      "image/png": "[encoded data removed]",
      "text/plain": [
       "<Figure size 432x288 with 1 Axes>"
      ]
     },
     "metadata": {
      "needs_background": "light"
     },
     "output_type": "display_data"
    }
   ],
   "source": [
    "plt.plot(precisions, recalls)\n",
    "plt.xlabel('Precision')\n",
    "plt.ylabel('Recall')\n",
    "plt.grid()"
   ]
  },
  {
   "cell_type": "code",
   "execution_count": 14,
   "id": "cb6ae716",
   "metadata": {},
   "outputs": [
    {
     "data": {
      "text/plain": [
       "[<matplotlib.lines.Line2D at 0x26b5abe3790>]"
      ]
     },
     "execution_count": 14,
     "metadata": {},
     "output_type": "execute_result"
    },
    {
     "data": {
      "image/png": "[encoded data removed]",
      "text/plain": [
       "<Figure size 432x288 with 1 Axes>"
      ]
     },
     "metadata": {
      "needs_background": "light"
     },
     "output_type": "display_data"
    }
   ],
   "source": [
    "# ROC Curve\n",
    "fpr, tpr, thresholds = roc_curve(y_train_3, y_train_pred_3)\n",
    "plt.plot(fpr, tpr)\n",
    "plt.grid()\n",
    "plt.plot([0,1], [0,1], 'k:')"
   ]
  },
  {
   "cell_type": "code",
   "execution_count": null,
   "id": "01b075b2",
   "metadata": {},
   "outputs": [],
   "source": [
    "# Random Forest "
   ]
  },
  {
   "cell_type": "code",
   "execution_count": 16,
   "id": "c843eea7",
   "metadata": {},
   "outputs": [
    {
     "data": {
      "text/plain": [
       "array([[0.97, 0.03],\n",
       "       [0.99, 0.01],\n",
       "       [0.97, 0.03],\n",
       "       ...,\n",
       "       [1.  , 0.  ],\n",
       "       [1.  , 0.  ],\n",
       "       [0.99, 0.01]])"
      ]
     },
     "execution_count": 16,
     "metadata": {},
     "output_type": "execute_result"
    }
   ],
   "source": [
    "forest_clf = RandomForestClassifier(random_state=1)\n",
    "forest_probs_3 = cross_val_predict(forest_clf, X_train, y_train_3, cv=5, method='predict_proba')\n",
    "forest_probs_3"
   ]
  },
  {
   "cell_type": "code",
   "execution_count": 18,
   "id": "b150c3d2",
   "metadata": {},
   "outputs": [],
   "source": [
    "y_train_3_pred_rf = forest_probs_3[:, 1]"
   ]
  },
  {
   "cell_type": "code",
   "execution_count": 19,
   "id": "4c4f722e",
   "metadata": {},
   "outputs": [],
   "source": [
    "precisions_rf, recalls_rf, thresholds_rf = precision_recall_curve(y_train_3, y_train_3_pred_rf)"
   ]
  },
  {
   "cell_type": "code",
   "execution_count": 21,
   "id": "60a18a00",
   "metadata": {},
   "outputs": [
    {
     "data": {
      "text/plain": [
       "Text(0.5, 0, 'Thresholds')"
      ]
     },
     "execution_count": 21,
     "metadata": {},
     "output_type": "execute_result"
    },
    {
     "data": {
      "image/png": "[encoded data removed]",
      "text/plain": [
       "<Figure size 432x288 with 1 Axes>"
      ]
     },
     "metadata": {
      "needs_background": "light"
     },
     "output_type": "display_data"
    }
   ],
   "source": [
    "plt.plot(thresholds_rf, precisions_rf[:-1], label='precision_rf')\n",
    "plt.plot(thresholds_rf, recalls_rf[:-1], label='recall_rf')\n",
    "plt.grid()\n",
    "plt.legend()\n",
    "plt.xlabel('Thresholds')"
   ]
  },
  {
   "cell_type": "code",
   "execution_count": 25,
   "id": "5171e5c2",
   "metadata": {},
   "outputs": [
    {
     "data": {
      "text/plain": [
       "<matplotlib.legend.Legend at 0x26b026a9550>"
      ]
     },
     "execution_count": 25,
     "metadata": {},
     "output_type": "execute_result"
    },
    {
     "data": {
      "image/png": "[encoded data removed]",
      "text/plain": [
       "<Figure size 432x288 with 1 Axes>"
      ]
     },
     "metadata": {
      "needs_background": "light"
     },
     "output_type": "display_data"
    }
   ],
   "source": [
    "plt.plot(recalls_rf, precisions_rf, label='RF')\n",
    "plt.plot(recalls, precisions, label='SGD')\n",
    "plt.grid()\n",
    "plt.xlabel('recall')\n",
    "plt.ylabel('precision')\n",
    "plt.legend()"
   ]
  },
  {
   "cell_type": "code",
   "execution_count": 30,
   "id": "811644eb",
   "metadata": {},
   "outputs": [],
   "source": [
    "# Logistic Regression\n",
    "log_clf = SGDClassifier(loss='log', random_state=1)\n",
    "y_train_3_pred_log = cross_val_predict(log_clf, X_train, y_train_3, cv=5, method='decision_function')"
   ]
  },
  {
   "cell_type": "code",
   "execution_count": 33,
   "id": "c3666077",
   "metadata": {},
   "outputs": [],
   "source": [
    "precisions_log, recalls_log, thresholds_log = precision_recall_curve(y_train_3, y_train_3_pred_log)"
   ]
  },
  {
   "cell_type": "code",
   "execution_count": 34,
   "id": "89a66600",
   "metadata": {},
   "outputs": [
    {
     "data": {
      "text/plain": [
       "<matplotlib.legend.Legend at 0x26b02dd5640>"
      ]
     },
     "execution_count": 34,
     "metadata": {},
     "output_type": "execute_result"
    },
    {
     "data": {
      "image/png": "[encoded data removed]",
      "text/plain": [
       "<Figure size 432x288 with 1 Axes>"
      ]
     },
     "metadata": {
      "needs_background": "light"
     },
     "output_type": "display_data"
    }
   ],
   "source": [
    "plt.plot(recalls_rf, precisions_rf, label='RF')\n",
    "plt.plot(recalls, precisions, label='SGD')\n",
    "plt.plot(recalls_log, precisions_log, label='Logistic')\n",
    "plt.grid()\n",
    "plt.xlabel('recall')\n",
    "plt.ylabel('precision')\n",
    "plt.legend()"
   ]
  },
  {
   "cell_type": "code",
   "execution_count": 48,
   "id": "4ca997bd",
   "metadata": {},
   "outputs": [
    {
     "data": {
      "text/plain": [
       "array([-1.0551917 , -2.29847018, -2.01038648, ..., -1.7598186 ,\n",
       "       -2.57219726, -2.94274004])"
      ]
     },
     "execution_count": 48,
     "metadata": {},
     "output_type": "execute_result"
    }
   ],
   "source": [
    "# SVM\n",
    "# Very long training time on this\n",
    "svm_clf = SVC(random_state=1)\n",
    "y_train_3_pred_svm = cross_val_predict(svm_clf, X_train, y_train_3, cv=5, method='decision_function')\n",
    "y_train_3_pred_svm"
   ]
  },
  {
   "cell_type": "code",
   "execution_count": 50,
   "id": "eb0d594e",
   "metadata": {},
   "outputs": [
    {
     "data": {
      "text/plain": [
       "<matplotlib.legend.Legend at 0x26b10750220>"
      ]
     },
     "execution_count": 50,
     "metadata": {},
     "output_type": "execute_result"
    },
    {
     "data": {
      "image/png": "[encoded data removed]",
      "text/plain": [
       "<Figure size 432x288 with 1 Axes>"
      ]
     },
     "metadata": {
      "needs_background": "light"
     },
     "output_type": "display_data"
    }
   ],
   "source": [
    "precisions_svm, recalls_svm, thresholds_svm = precision_recall_curve(y_train_3, y_train_3_pred_svm)\n",
    "plt.plot(recalls_rf, precisions_rf, label='RF')\n",
    "plt.plot(recalls, precisions, label='SGD')\n",
    "plt.plot(recalls_log, precisions_log, label='Logistic')\n",
    "plt.plot(recalls_svm, precisions_svm, label='SVM')\n",
    "plt.grid()\n",
    "plt.xlabel('recall')\n",
    "plt.ylabel('precision')\n",
    "plt.legend()"
   ]
  },
  {
   "cell_type": "code",
   "execution_count": 52,
   "id": "278d4940",
   "metadata": {},
   "outputs": [
    {
     "data": {
      "text/plain": [
       "array([[1., 0.],\n",
       "       [1., 0.],\n",
       "       [1., 0.],\n",
       "       ...,\n",
       "       [1., 0.],\n",
       "       [1., 0.],\n",
       "       [1., 0.]])"
      ]
     },
     "execution_count": 52,
     "metadata": {},
     "output_type": "execute_result"
    }
   ],
   "source": [
    "# knn\n",
    "knn_clf = KNeighborsClassifier()\n",
    "y_train_3_pred_knn = cross_val_predict(knn_clf, X_train, y_train_3, cv=5, method='predict_proba')\n",
    "y_train_3_pred_knn"
   ]
  },
  {
   "cell_type": "code",
   "execution_count": 58,
   "id": "017dfef9",
   "metadata": {},
   "outputs": [
    {
     "data": {
      "text/plain": [
       "<matplotlib.legend.Legend at 0x26b117de790>"
      ]
     },
     "execution_count": 58,
     "metadata": {},
     "output_type": "execute_result"
    },
    {
     "data": {
      "image/png": "[encoded data removed]",
      "text/plain": [
       "<Figure size 432x288 with 1 Axes>"
      ]
     },
     "metadata": {
      "needs_background": "light"
     },
     "output_type": "display_data"
    }
   ],
   "source": [
    "precisions_knn, recalls_knn, threshlds_knn = precision_recall_curve(y_train_3, y_train_3_pred_knn[:,1])\n",
    "plt.plot(recalls_rf, precisions_rf, label='RF')\n",
    "plt.plot(recalls, precisions, label='SGD')\n",
    "plt.plot(recalls_log, precisions_log, label='Logistic')\n",
    "plt.plot(recalls_svm, precisions_svm, label='SVM')\n",
    "plt.plot(recalls_knn, precisions_knn, label='kNN')\n",
    "plt.grid()\n",
    "plt.xlabel('recall')\n",
    "plt.ylabel('precision')\n",
    "plt.legend()"
   ]
  },
  {
   "cell_type": "markdown",
   "id": "711e7717",
   "metadata": {},
   "source": [
    "We see that the base models of the kNN and SVM are both the most accurate classifiers. We will take each of these models forward and create a multiclass classifiers using each. \n",
    "\n",
    "## Multiclass Classification\n",
    "We now aim to build a multiclass digit classifier that achives 97% on the test set.\n",
    "\n",
    "Some classifiers include multiclass functionality out-of-the-box. These include LogisticRegression, kNeighboursClassifier, RandomForestClassifier, GaussianNB, etc. Other classifiers, such as SGDClassifier and SVC and strictly binary classifiers. \n",
    "\n",
    "We are going to create full digit classifiers using the kNeighboursClassifier and SVC algorithms. SVC is strictly binary, so we will need to create numerous binary classifiers and aggregate the outputs to make a single predictor. There are two approaches to aggregate binary classifiers:\n",
    "- One-vs-Rest (OvR) a.k.a. Ove-vs-All (OvA), where we train multiple single-class predictors such as a \"3-predictor\" and a \"7-predictor\" etc. This would require a total of 10 predictors, one for each digit.\n",
    "- One-vs-One (OvO), which makes 1-vs-2, 1-vs-3... 2-vs-3... etc, which would require in this case 45 predictors.\n",
    "\n",
    "Recall that the SVM scales poorly to larger training datasets, so it is much more optimal to train an SVM as a OvO aggregate. This is because a 1v2 dataset should be abot 20% as large as a 1vRest dataset, assuming that the digits are uniformly distributed."
   ]
  },
  {
   "cell_type": "code",
   "execution_count": 3,
   "id": "3025c7aa",
   "metadata": {},
   "outputs": [],
   "source": [
    "mnist = fetch_openml('mnist_784', as_frame=True)"
   ]
  },
  {
   "cell_type": "code",
   "execution_count": 4,
   "id": "6e2731a8",
   "metadata": {},
   "outputs": [],
   "source": [
    "X, y = mnist['data'], mnist['target']"
   ]
  },
  {
   "cell_type": "code",
   "execution_count": 5,
   "id": "c6e61c8f",
   "metadata": {},
   "outputs": [],
   "source": [
    "X_train, X_test, y_train, y_test = train_test_split(X, y, test_size=0.2,\n",
    "                                                   random_state=1)"
   ]
  },
  {
   "cell_type": "code",
   "execution_count": 7,
   "id": "263a2681",
   "metadata": {},
   "outputs": [],
   "source": [
    "digits = [str(i) for i in range(0, 10)]"
   ]
  },
  {
   "cell_type": "markdown",
   "id": "682f0e6a",
   "metadata": {},
   "source": [
    "### SVC"
   ]
  },
  {
   "cell_type": "code",
   "execution_count": 8,
   "id": "7f486d49",
   "metadata": {},
   "outputs": [],
   "source": [
    "# BRUTE FORCE APPROACH\n",
    "# training one-vs-one SVC classifiers and storing them in a dictionary\n",
    "# training takes a couple minutes\n",
    "svc_models = dict()\n",
    "for i in digits:\n",
    "    for j in digits:\n",
    "        if j <= i:\n",
    "            continue\n",
    "        selection = (y_train == i) | (y_train == j)\n",
    "        X_train_loop = X_train[selection]\n",
    "        y_train_loop = y_train[selection]\n",
    "        svc_clf = SVC(random_state=1)\n",
    "        svc_clf.fit(X_train_loop, y_train_loop)\n",
    "        svc_models[(i,j)] = svc_clf\n",
    "        "
   ]
  },
  {
   "cell_type": "code",
   "execution_count": 9,
   "id": "d4117017",
   "metadata": {},
   "outputs": [
    {
     "data": {
      "text/plain": [
       "0.9999150237933379"
      ]
     },
     "execution_count": 9,
     "metadata": {},
     "output_type": "execute_result"
    }
   ],
   "source": [
    "# checking accuracy of one of the classifiers as a sanity check\n",
    "ones_zeros_selection = (y_train == '1') | (y_train == '0')\n",
    "X_ones_zeros = X_train[ones_zeros_selection]\n",
    "y_ones_zeros = y_train[ones_zeros_selection]\n",
    "ones_zeros_predicted = svc_models[('0', '1')].predict(X_ones_zeros)\n",
    "accuracy_score(y_ones_zeros, ones_zeros_predicted)\n",
    "# It works well for the correctly chosen digits!"
   ]
  },
  {
   "cell_type": "code",
   "execution_count": 10,
   "id": "d0c78fbc",
   "metadata": {},
   "outputs": [
    {
     "data": {
      "text/plain": [
       "0.5318967719955711"
      ]
     },
     "execution_count": 10,
     "metadata": {},
     "output_type": "execute_result"
    }
   ],
   "source": [
    "# checking accuracy with \"misaligned\" digits\n",
    "ones_zeros_selection = (y_train == '1') | (y_train == '4')\n",
    "X_ones_zeros = X_train[ones_zeros_selection]\n",
    "y_ones_zeros = y_train[ones_zeros_selection]\n",
    "ones_zeros_predicted = svc_models[('0', '1')].predict(X_ones_zeros)\n",
    "accuracy_score(y_ones_zeros, ones_zeros_predicted)\n",
    "# It works poorly for misaligned digits"
   ]
  },
  {
   "cell_type": "code",
   "execution_count": 11,
   "id": "49fdabe7",
   "metadata": {},
   "outputs": [],
   "source": [
    "# Making predictions on the train and test sets\n",
    "train_predictions = []\n",
    "test_predictions = []\n",
    "for key, model in svc_models.items():\n",
    "    # super inefficient, took 20 mins\n",
    "    train_predictions.append(model.predict(X_train))\n",
    "    test_predictions.append(model.predict(X_test))"
   ]
  },
  {
   "cell_type": "code",
   "execution_count": 13,
   "id": "7b0f8d1c",
   "metadata": {},
   "outputs": [
    {
     "data": {
      "text/html": [
       "<div>\n",
       "<style scoped>\n",
       "    .dataframe tbody tr th:only-of-type {\n",
       "        vertical-align: middle;\n",
       "    }\n",
       "\n",
       "    .dataframe tbody tr th {\n",
       "        vertical-align: top;\n",
       "    }\n",
       "\n",
       "    .dataframe thead th {\n",
       "        text-align: right;\n",
       "    }\n",
       "</style>\n",
       "<table border=\"1\" class=\"dataframe\">\n",
       "  <thead>\n",
       "    <tr style=\"text-align: right;\">\n",
       "      <th></th>\n",
       "      <th>0</th>\n",
       "      <th>1</th>\n",
       "      <th>2</th>\n",
       "      <th>3</th>\n",
       "      <th>4</th>\n",
       "      <th>5</th>\n",
       "      <th>6</th>\n",
       "      <th>7</th>\n",
       "      <th>8</th>\n",
       "      <th>9</th>\n",
       "      <th>...</th>\n",
       "      <th>55990</th>\n",
       "      <th>55991</th>\n",
       "      <th>55992</th>\n",
       "      <th>55993</th>\n",
       "      <th>55994</th>\n",
       "      <th>55995</th>\n",
       "      <th>55996</th>\n",
       "      <th>55997</th>\n",
       "      <th>55998</th>\n",
       "      <th>55999</th>\n",
       "    </tr>\n",
       "  </thead>\n",
       "  <tbody>\n",
       "    <tr>\n",
       "      <th>0</th>\n",
       "      <td>0</td>\n",
       "      <td>0</td>\n",
       "      <td>1</td>\n",
       "      <td>1</td>\n",
       "      <td>1</td>\n",
       "      <td>0</td>\n",
       "      <td>0</td>\n",
       "      <td>0</td>\n",
       "      <td>0</td>\n",
       "      <td>1</td>\n",
       "      <td>...</td>\n",
       "      <td>0</td>\n",
       "      <td>0</td>\n",
       "      <td>0</td>\n",
       "      <td>1</td>\n",
       "      <td>0</td>\n",
       "      <td>0</td>\n",
       "      <td>0</td>\n",
       "      <td>0</td>\n",
       "      <td>0</td>\n",
       "      <td>0</td>\n",
       "    </tr>\n",
       "    <tr>\n",
       "      <th>1</th>\n",
       "      <td>2</td>\n",
       "      <td>2</td>\n",
       "      <td>2</td>\n",
       "      <td>2</td>\n",
       "      <td>2</td>\n",
       "      <td>2</td>\n",
       "      <td>2</td>\n",
       "      <td>2</td>\n",
       "      <td>2</td>\n",
       "      <td>2</td>\n",
       "      <td>...</td>\n",
       "      <td>0</td>\n",
       "      <td>0</td>\n",
       "      <td>2</td>\n",
       "      <td>2</td>\n",
       "      <td>2</td>\n",
       "      <td>0</td>\n",
       "      <td>0</td>\n",
       "      <td>0</td>\n",
       "      <td>0</td>\n",
       "      <td>0</td>\n",
       "    </tr>\n",
       "    <tr>\n",
       "      <th>2</th>\n",
       "      <td>3</td>\n",
       "      <td>3</td>\n",
       "      <td>3</td>\n",
       "      <td>3</td>\n",
       "      <td>3</td>\n",
       "      <td>3</td>\n",
       "      <td>0</td>\n",
       "      <td>3</td>\n",
       "      <td>3</td>\n",
       "      <td>3</td>\n",
       "      <td>...</td>\n",
       "      <td>0</td>\n",
       "      <td>0</td>\n",
       "      <td>0</td>\n",
       "      <td>3</td>\n",
       "      <td>0</td>\n",
       "      <td>3</td>\n",
       "      <td>0</td>\n",
       "      <td>3</td>\n",
       "      <td>0</td>\n",
       "      <td>0</td>\n",
       "    </tr>\n",
       "    <tr>\n",
       "      <th>3</th>\n",
       "      <td>4</td>\n",
       "      <td>4</td>\n",
       "      <td>4</td>\n",
       "      <td>4</td>\n",
       "      <td>4</td>\n",
       "      <td>4</td>\n",
       "      <td>4</td>\n",
       "      <td>4</td>\n",
       "      <td>4</td>\n",
       "      <td>4</td>\n",
       "      <td>...</td>\n",
       "      <td>0</td>\n",
       "      <td>4</td>\n",
       "      <td>4</td>\n",
       "      <td>4</td>\n",
       "      <td>4</td>\n",
       "      <td>0</td>\n",
       "      <td>0</td>\n",
       "      <td>0</td>\n",
       "      <td>0</td>\n",
       "      <td>0</td>\n",
       "    </tr>\n",
       "    <tr>\n",
       "      <th>4</th>\n",
       "      <td>5</td>\n",
       "      <td>5</td>\n",
       "      <td>5</td>\n",
       "      <td>5</td>\n",
       "      <td>5</td>\n",
       "      <td>5</td>\n",
       "      <td>0</td>\n",
       "      <td>5</td>\n",
       "      <td>5</td>\n",
       "      <td>5</td>\n",
       "      <td>...</td>\n",
       "      <td>5</td>\n",
       "      <td>0</td>\n",
       "      <td>5</td>\n",
       "      <td>5</td>\n",
       "      <td>5</td>\n",
       "      <td>5</td>\n",
       "      <td>0</td>\n",
       "      <td>5</td>\n",
       "      <td>0</td>\n",
       "      <td>0</td>\n",
       "    </tr>\n",
       "  </tbody>\n",
       "</table>\n",
       "<p>5 rows × 56000 columns</p>\n",
       "</div>"
      ],
      "text/plain": [
       "  0     1     2     3     4     5     6     7     8     9      ... 55990  \\\n",
       "0     0     0     1     1     1     0     0     0     0     1  ...     0   \n",
       "1     2     2     2     2     2     2     2     2     2     2  ...     0   \n",
       "2     3     3     3     3     3     3     0     3     3     3  ...     0   \n",
       "3     4     4     4     4     4     4     4     4     4     4  ...     0   \n",
       "4     5     5     5     5     5     5     0     5     5     5  ...     5   \n",
       "\n",
       "  55991 55992 55993 55994 55995 55996 55997 55998 55999  \n",
       "0     0     0     1     0     0     0     0     0     0  \n",
       "1     0     2     2     2     0     0     0     0     0  \n",
       "2     0     0     3     0     3     0     3     0     0  \n",
       "3     4     4     4     4     0     0     0     0     0  \n",
       "4     0     5     5     5     5     0     5     0     0  \n",
       "\n",
       "[5 rows x 56000 columns]"
      ]
     },
     "execution_count": 13,
     "metadata": {},
     "output_type": "execute_result"
    }
   ],
   "source": [
    "train_predictions_df = pd.DataFrame(train_predictions)\n",
    "test_predictions_df = pd.DataFrame(test_predictions)\n",
    "train_predictions_df.head()\n",
    "# Each row are the predictions made for each model\n",
    "# We thus want to take the most frequent number in each column"
   ]
  },
  {
   "cell_type": "code",
   "execution_count": 15,
   "id": "5459f863",
   "metadata": {},
   "outputs": [],
   "source": [
    "train_predictions = []\n",
    "test_predictions = []\n",
    "for header in train_predictions_df.columns:\n",
    "    train_predictions.append(train_predictions_df[header].value_counts().idxmax())\n",
    "for header in test_predictions_df.columns:\n",
    "    test_predictions.append(test_predictions_df[header].value_counts().idxmax())\n",
    "\n",
    "train_predictions = np.array(train_predictions)\n",
    "test_predictions = np.array(test_predictions)"
   ]
  },
  {
   "cell_type": "code",
   "execution_count": 16,
   "id": "d08cef45",
   "metadata": {},
   "outputs": [
    {
     "data": {
      "text/plain": [
       "(0.9896071428571429, 0.9785714285714285)"
      ]
     },
     "execution_count": 16,
     "metadata": {},
     "output_type": "execute_result"
    }
   ],
   "source": [
    "accuracy_score(y_train, train_predictions), \\\n",
    "    accuracy_score(y_test, test_predictions)"
   ]
  },
  {
   "cell_type": "markdown",
   "id": "2ca5f356",
   "metadata": {},
   "source": [
    "We have thus accomplished the task of building a digit predictor with >97% accuracy! Though the prediction part of the pipeline took very long and is not ideal. Let's try this with the built-in OvO and OvA sklearn functions."
   ]
  },
  {
   "cell_type": "code",
   "execution_count": 19,
   "id": "34f6fab8",
   "metadata": {},
   "outputs": [
    {
     "data": {
      "text/plain": [
       "(0.9894821428571429, 0.9782142857142857)"
      ]
     },
     "execution_count": 19,
     "metadata": {},
     "output_type": "execute_result"
    }
   ],
   "source": [
    "# One versus One\n",
    "# no hyperparameter tuning or CV\n",
    "ovo_clf_svm = OneVsOneClassifier(SVC(random_state=1))\n",
    "ovo_clf_svm.fit(X_train, y_train)\n",
    "y_train_pred_ovo = ovo_clf_svm.predict(X_train)\n",
    "y_test_pred_ovo = ovo_clf_svm.predict(X_test)\n",
    "accuracy_score(y_train, y_train_pred_ovo), \\\n",
    "    accuracy_score(y_test, y_test_pred_ovo)\n",
    "# We see that the OvO function produces the exact same results as those above\n",
    "# This did however take around 20 minutes"
   ]
  },
  {
   "cell_type": "code",
   "execution_count": 20,
   "id": "603a8e77",
   "metadata": {},
   "outputs": [
    {
     "data": {
      "text/plain": [
       "(0.9894821428571429, 0.9782142857142857)"
      ]
     },
     "execution_count": 20,
     "metadata": {},
     "output_type": "execute_result"
    }
   ],
   "source": [
    "# One versus All\n",
    "# Takes very long to train\n",
    "ovr_clf_svm = OneVsRestClassifier(SVC(random_state=1))\n",
    "ovr_clf_svm.fit(X_train, y_train)\n",
    "y_train_pred_ovr = ovr_clf_svm.predict(X_train)\n",
    "y_test_pred_ovr = ovr_clf_svm.predict(X_test)\n",
    "accuracy_score(y_train, y_train_pred_ovo), \\\n",
    "    accuracy_score(y_test, y_test_pred_ovo)"
   ]
  },
  {
   "cell_type": "markdown",
   "id": "fba8dfae",
   "metadata": {},
   "source": [
    "### KNeighboursClassifier"
   ]
  },
  {
   "cell_type": "code",
   "execution_count": 7,
   "id": "7edd20ae",
   "metadata": {},
   "outputs": [
    {
     "data": {
      "text/plain": [
       "0.981"
      ]
     },
     "execution_count": 7,
     "metadata": {},
     "output_type": "execute_result"
    }
   ],
   "source": [
    "knn_clf = KNeighborsClassifier()\n",
    "knn_clf.fit(X_train, y_train)\n",
    "y_train_pred_knn = knn_clf.predict(X_train)\n",
    "accuracy_score(y_train, y_train_pred_knn)"
   ]
  },
  {
   "cell_type": "code",
   "execution_count": 9,
   "id": "b1675473",
   "metadata": {},
   "outputs": [
    {
     "data": {
      "text/plain": [
       "0.9720714285714286"
      ]
     },
     "execution_count": 9,
     "metadata": {},
     "output_type": "execute_result"
    }
   ],
   "source": [
    "y_test_pred_knn = knn_clf.predict(X_test)\n",
    "accuracy_score(y_test, y_test_pred_knn)"
   ]
  },
  {
   "cell_type": "code",
   "execution_count": 12,
   "id": "bb8f968e",
   "metadata": {},
   "outputs": [],
   "source": [
    "train_sizes, train_scores, validation_scored = learning_curve(knn_clf, \n",
    "                                                              X_train,\n",
    "                                                              y_train,\n",
    "                                                              cv=5)"
   ]
  },
  {
   "cell_type": "code",
   "execution_count": 15,
   "id": "50fc6d5e",
   "metadata": {},
   "outputs": [],
   "source": [
    "train_error = train_scores.mean(axis=1)\n",
    "validation_error = validation_scored.mean(axis=1)"
   ]
  },
  {
   "cell_type": "code",
   "execution_count": 17,
   "id": "6844d92e",
   "metadata": {},
   "outputs": [
    {
     "data": {
      "text/plain": [
       "[<matplotlib.lines.Line2D at 0x1c8f62c10d0>]"
      ]
     },
     "execution_count": 17,
     "metadata": {},
     "output_type": "execute_result"
    },
    {
     "data": {
      "image/png": "[encoded data removed]",
      "text/plain": [
       "<Figure size 432x288 with 1 Axes>"
      ]
     },
     "metadata": {
      "needs_background": "light"
     },
     "output_type": "display_data"
    }
   ],
   "source": [
    "plt.plot(train_sizes, train_error, label='training')\n",
    "plt.plot(train_sizes, validation_error, label='validation')"
   ]
  },
  {
   "cell_type": "code",
   "execution_count": null,
   "id": "79857fd6",
   "metadata": {},
   "outputs": [],
   "source": [
    "SGDClassifier().partial_fit()"
   ]
  }
 ],
 "metadata": {
  "kernelspec": {
   "display_name": "Python 3 (ipykernel)",
   "language": "python",
   "name": "python3"
  },
  "language_info": {
   "codemirror_mode": {
    "name": "ipython",
    "version": 3
   },
   "file_extension": ".py",
   "mimetype": "text/x-python",
   "name": "python",
   "nbconvert_exporter": "python",
   "pygments_lexer": "ipython3",
   "version": "3.10.10"
  }
 },
 "nbformat": 4,
 "nbformat_minor": 5
}
