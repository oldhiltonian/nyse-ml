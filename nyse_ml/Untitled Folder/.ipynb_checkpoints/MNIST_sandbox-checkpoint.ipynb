{
 "cells": [
  {
   "cell_type": "code",
   "execution_count": 26,
   "id": "d100fcfd",
   "metadata": {},
   "outputs": [],
   "source": [
    "# models\n",
    "from sklearn.linear_model import SGDClassifier, LogisticRegression\n",
    "from sklearn.tree import DecisionTreeClassifier\n",
    "from sklearn.ensemble import RandomForestClassifier\n",
    "from sklearn.neighbors import KNeighborsClassifier\n",
    "from sklearn.svm import SVC\n",
    "\n",
    "# optimization & metrics\n",
    "from sklearn.model_selection import (train_test_split, cross_val_predict, cross_val_score)\n",
    "from sklearn.metrics import (accuracy_score, recall_score, precision_score, \n",
    "                             precision_recall_curve)\n",
    "\n",
    "# general\n",
    "import pandas as pd\n",
    "import numpy as np\n",
    "import matplotlib.pyplot as plt"
   ]
  },
  {
   "cell_type": "code",
   "execution_count": 1,
   "id": "842ef709",
   "metadata": {},
   "outputs": [],
   "source": [
    "from sklearn.datasets import fetch_openml\n",
    "mnist = fetch_openml('mnist_784', as_frame=False)"
   ]
  },
  {
   "cell_type": "code",
   "execution_count": 11,
   "id": "e3520f1a",
   "metadata": {},
   "outputs": [],
   "source": [
    "def plot_digit(data):\n",
    "    image = data.reshape(28, 28)\n",
    "    plt.imshow(image, cmap='binary')\n",
    "    plt.axis('off')"
   ]
  },
  {
   "cell_type": "code",
   "execution_count": 8,
   "id": "1cb2af81",
   "metadata": {},
   "outputs": [],
   "source": [
    "X, y = mnist.data, mnist.target"
   ]
  },
  {
   "cell_type": "code",
   "execution_count": 16,
   "id": "5ca29532",
   "metadata": {},
   "outputs": [
    {
     "data": {
      "image/png": "[encoded data removed]",
      "text/plain": [
       "<Figure size 432x288 with 1 Axes>"
      ]
     },
     "metadata": {
      "needs_background": "light"
     },
     "output_type": "display_data"
    }
   ],
   "source": [
    "plot_digit(X[7])"
   ]
  },
  {
   "cell_type": "code",
   "execution_count": 17,
   "id": "b11cd212",
   "metadata": {},
   "outputs": [],
   "source": [
    "X_train, X_test, y_train, y_test = train_test_split(X, y, test_size=0.2)"
   ]
  },
  {
   "cell_type": "markdown",
   "id": "03e21347",
   "metadata": {},
   "source": [
    "## Binary Classification\n",
    "Predicting if the output is 3 or not."
   ]
  },
  {
   "cell_type": "code",
   "execution_count": 23,
   "id": "b37c6406",
   "metadata": {},
   "outputs": [],
   "source": [
    "y_train_3 = (y_train == '3')\n",
    "y_test_3 = (y_test == '3')"
   ]
  },
  {
   "cell_type": "code",
   "execution_count": 37,
   "id": "3d5a6a32",
   "metadata": {},
   "outputs": [
    {
     "name": "stderr",
     "output_type": "stream",
     "text": [
      "C:\\Users\\John\\anaconda3\\lib\\site-packages\\sklearn\\linear_model\\_stochastic_gradient.py:696: ConvergenceWarning: Maximum number of iteration reached before convergence. Consider increasing max_iter to improve the fit.\n",
      "  warnings.warn(\n"
     ]
    },
    {
     "data": {
      "text/plain": [
       "{'hinge': 0.9691785714285714,\n",
       " 'log': 0.9672857142857143,\n",
       " 'modified_huber': 0.9629107142857143,\n",
       " 'squared_error': 0.15698214285714285}"
      ]
     },
     "execution_count": 37,
     "metadata": {},
     "output_type": "execute_result"
    }
   ],
   "source": [
    "# Stochastic Gradient Descent\n",
    "losses = ['hinge', 'log', 'modified_huber', 'squared_error']\n",
    "accuracies = dict()\n",
    "for loss in losses:\n",
    "    sgd_clf = SGDClassifier(loss=loss, random_state=1)\n",
    "    sgd_clf.fit(X_train, y_train_3)\n",
    "    y_train_3_pred = sgd_clf.predict(X_train)\n",
    "    accuracy = accuracy_score(y_train_3, y_train_3_pred)\n",
    "    accuracies[loss] = accuracy\n",
    "accuracies"
   ]
  },
  {
   "cell_type": "code",
   "execution_count": 38,
   "id": "cb6c81cb",
   "metadata": {},
   "outputs": [
    {
     "name": "stdout",
     "output_type": "stream",
     "text": [
      "0.9691785714285714 0.89825\n"
     ]
    }
   ],
   "source": [
    "# 'hinge' gave the best initial pass\n",
    "sgd_clf = SGDClassifier(random_state=1)\n",
    "sgd_clf.fit(X_train, y_train_3)\n",
    "y_train_3_pred = sgd_clf.predict(X_train)\n",
    "accuracy = accuracy_score(y_train_3, y_train_3_pred)\n",
    "proportion_non_3 = sum(y_train != '3')/len(y_train)\n",
    "print(accuracy, proportion_non_3)\n",
    "# ~90% of the data is already not '3', so our classifier is correctly predicting 70% of the '3's"
   ]
  },
  {
   "cell_type": "code",
   "execution_count": 39,
   "id": "4cbe8b3d",
   "metadata": {},
   "outputs": [],
   "source": [
    "# using cross validation\n",
    "y_train_pred_3 = cross_val_predict(sgd_clf, X_train, y_train_3, cv=5, method='decision_function')"
   ]
  },
  {
   "cell_type": "code",
   "execution_count": 40,
   "id": "b425c327",
   "metadata": {},
   "outputs": [
    {
     "data": {
      "text/plain": [
       "array([-12864.35876648,   4647.27457623,  -4482.11493678, ...,\n",
       "       -33348.55358691,  -6668.18701484,  -5247.45738891])"
      ]
     },
     "execution_count": 40,
     "metadata": {},
     "output_type": "execute_result"
    }
   ],
   "source": [
    "y_train_pred_3"
   ]
  },
  {
   "cell_type": "code",
   "execution_count": 41,
   "id": "a998f8fb",
   "metadata": {},
   "outputs": [],
   "source": [
    "precisions, recalls, thresholds = precision_recall_curve(y_train_3, y_train_pred_3)"
   ]
  },
  {
   "cell_type": "code",
   "execution_count": 52,
   "id": "87aa2460",
   "metadata": {},
   "outputs": [
    {
     "data": {
      "text/plain": [
       "<matplotlib.legend.Legend at 0x2a0a4b117f0>"
      ]
     },
     "execution_count": 52,
     "metadata": {},
     "output_type": "execute_result"
    },
    {
     "data": {
      "image/png": "[encoded data removed]",
      "text/plain": [
       "<Figure size 432x288 with 1 Axes>"
      ]
     },
     "metadata": {
      "needs_background": "light"
     },
     "output_type": "display_data"
    }
   ],
   "source": [
    "plt.plot(thresholds, precisions[:-1], label='precision')\n",
    "plt.plot(thresholds, recalls[:-1], label='recall')\n",
    "plt.xlabel('Thresholds')\n",
    "plt.grid()\n",
    "plt.legend()"
   ]
  },
  {
   "cell_type": "code",
   "execution_count": 51,
   "id": "b2a463b9",
   "metadata": {},
   "outputs": [
    {
     "data": {
      "image/png": "[encoded data removed]",
      "text/plain": [
       "<Figure size 432x288 with 1 Axes>"
      ]
     },
     "metadata": {
      "needs_background": "light"
     },
     "output_type": "display_data"
    }
   ],
   "source": [
    "plt.plot(precisions, recalls)\n",
    "\n",
    "plt.xlabel('Precision')\n",
    "plt.ylabel('Recall')\n",
    "plt.grid()"
   ]
  },
  {
   "cell_type": "code",
   "execution_count": null,
   "id": "11b42e3b",
   "metadata": {},
   "outputs": [],
   "source": [
    "# Random Forest "
   ]
  },
  {
   "cell_type": "code",
   "execution_count": null,
   "id": "48b67684",
   "metadata": {},
   "outputs": [],
   "source": []
  },
  {
   "cell_type": "code",
   "execution_count": null,
   "id": "97265579",
   "metadata": {},
   "outputs": [],
   "source": []
  },
  {
   "cell_type": "code",
   "execution_count": null,
   "id": "d9facf66",
   "metadata": {},
   "outputs": [],
   "source": []
  },
  {
   "cell_type": "code",
   "execution_count": null,
   "id": "eb4f70cd",
   "metadata": {},
   "outputs": [],
   "source": []
  },
  {
   "cell_type": "code",
   "execution_count": null,
   "id": "780b2aa4",
   "metadata": {},
   "outputs": [],
   "source": []
  },
  {
   "cell_type": "code",
   "execution_count": null,
   "id": "117b783a",
   "metadata": {},
   "outputs": [],
   "source": []
  },
  {
   "cell_type": "code",
   "execution_count": null,
   "id": "668e149a",
   "metadata": {},
   "outputs": [],
   "source": []
  }
 ],
 "metadata": {
  "kernelspec": {
   "display_name": "Python 3 (ipykernel)",
   "language": "python",
   "name": "python3"
  },
  "language_info": {
   "codemirror_mode": {
    "name": "ipython",
    "version": 3
   },
   "file_extension": ".py",
   "mimetype": "text/x-python",
   "name": "python",
   "nbconvert_exporter": "python",
   "pygments_lexer": "ipython3",
   "version": "3.9.12"
  }
 },
 "nbformat": 4,
 "nbformat_minor": 5
}
